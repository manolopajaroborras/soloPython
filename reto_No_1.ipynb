{
  "nbformat": 4,
  "nbformat_minor": 0,
  "metadata": {
    "colab": {
      "provenance": [],
      "authorship_tag": "ABX9TyMfsA01D/EYmnlGQ7XZdONk",
      "include_colab_link": true
    },
    "kernelspec": {
      "name": "python3",
      "display_name": "Python 3"
    },
    "language_info": {
      "name": "python"
    }
  },
  "cells": [
    {
      "cell_type": "markdown",
      "metadata": {
        "id": "view-in-github",
        "colab_type": "text"
      },
      "source": [
        "<a href=\"https://colab.research.google.com/github/manolopajaroborras/soloPython/blob/main/reto_No_1.ipynb\" target=\"_parent\"><img src=\"https://colab.research.google.com/assets/colab-badge.svg\" alt=\"Open In Colab\"/></a>"
      ]
    },
    {
      "cell_type": "markdown",
      "source": [
        "Para este reto utilizare; un dataset diferente al \"Iris\", en este caso, el dataset de \"Wine\" que viene integrado en scikit-learn. Es un conjunto de datos clásico con características numéricas y una variable objetivo categórica, lo que lo hace ideal para un análisis similar al de Iris.\n",
        "\n",
        "Este script realiza un análisis exploratorio y visualización del dataset \"Wine\" disponible en scikit-learn, siguiendo una metodología similar a la del ejemplo de Iris, pero con un conjunto de datos diferente."
      ],
      "metadata": {
        "id": "cCuijfTZ639f"
      }
    },
    {
      "cell_type": "markdown",
      "source": [],
      "metadata": {
        "id": "Ml6JPz3o5qFQ"
      }
    },
    {
      "cell_type": "markdown",
      "source": [
        "1. Carga y Exploración Inicial del Dataset"
      ],
      "metadata": {
        "id": "xhJMYMgA_qHT"
      }
    },
    {
      "cell_type": "code",
      "source": [
        "\"\"\"\n",
        "Autor: Manolo Pajaro Borras estudiante de Maestria\n",
        "Fecha: 2023-10-27\n",
        "Este script realiza un análisis exploratorio y visualización del dataset \"Wine\"\n",
        "disponible en scikit-learn, siguiendo una metodología similar a la del ejemplo\n",
        "de Iris, pero con un conjunto de datos diferente.\n",
        "\"\"\"\n",
        "# 1. Importar Librerías Necesarias\n",
        "import pandas as pd\n",
        "import numpy as np\n",
        "import seaborn as sns\n",
        "import matplotlib.pyplot as plt\n",
        "from sklearn.datasets import load_wine # Importamos el dataset de vino\n",
        "\n",
        "# Configuración para mejorar la visualización de los gráficos\n",
        "sns.set_style(\"whitegrid\") # Establece el estilo de los gráficos\n",
        "plt.rcParams['figure.figsize'] = (10, 6) # Tamaño predeterminado de las figuras\n",
        "plt.rcParams['figure.dpi'] = 100 # Mayor resolución para los gráficos\n",
        "print(\"Librerías importadas correctamente.\"))\n"
      ],
      "metadata": {
        "id": "WMUmZOuQGFwI"
      },
      "execution_count": null,
      "outputs": []
    },
    {
      "cell_type": "markdown",
      "source": [
        "2. Mostrando la información general del DataFrame (tipos de datos, valores no nulos)"
      ],
      "metadata": {
        "id": "6COGGgfQdX4U"
      }
    },
    {
      "cell_type": "code",
      "source": [
        "# --- SECCIÓN 1: Carga y Exploración Inicial del Dataset ---\n",
        "print(\"\\n--- SECCIÓN 1: Carga y Exploración Inicial del Dataset ---\")\n",
        "\n",
        "# Cargar el dataset de vino\n",
        "datos_vino = load_wine()\n",
        "\n",
        "# Crear un DataFrame de Pandas\n",
        "# datos_vino.data contiene las características (features)\n",
        "# datos_vino.feature_names contiene los nombres de las características\n",
        "df_vino = pd.DataFrame(data=datos_vino.data, columns=datos_vino.feature_names)\n",
        "\n",
        "# Añadir la variable objetivo (target) al DataFrame\n",
        "# datos_vino.target contiene las etiquetas de clase (0, 1, 2)\n",
        "df_vino['clase_objetivo'] = datos_vino.target\n",
        "\n",
        "# Añadir los nombres de las clases (para una mejor comprensión)\n",
        "# datos_vino.target_names contiene los nombres reales de las clases (e.g., 'class_0')\n",
        "df_vino['nombre_clase'] = df_vino['clase_objetivo'].apply(lambda x: datos_vino.target_names[x])\n",
        "\n",
        "print(\"\\nDataset de Vino cargado y convertido a DataFrame de Pandas.\")\n",
        "\n",
        "# Mostrar las primeras 5 filas del DataFrame\n",
        "print(\"\\nPrimeras 5 filas del dataset:\")\n",
        "print(df_vino.head())\n",
        "\n",
        "# Mostrar información general del DataFrame (tipos de datos, valores no nulos)\n",
        "print(\"\\nInformación general del dataset:\")\n",
        "df_vino.info()\n",
        "\n",
        "# Mostrar estadísticas descriptivas de las columnas numéricas\n",
        "print(\"\\nEstadísticas descriptivas del dataset:\")\n",
        "print(df_vino.describe())\n",
        "\n",
        "# Verificar el balance de las clases en la variable objetivo\n",
        "print(\"\\nConteo de instancias por clase de vino:\")\n",
        "print(df_vino['nombre_clase'].value_counts())"
      ],
      "metadata": {
        "id": "jT8XrbrlIMUd"
      },
      "execution_count": null,
      "outputs": []
    },
    {
      "cell_type": "markdown",
      "source": [
        "3. Análisis Exploratorio de Datos (EDA) y Visualización ---"
      ],
      "metadata": {
        "id": "YDJB2fKWefKN"
      }
    },
    {
      "cell_type": "code",
      "source": [
        "print(\"\\n--- SECCIÓN 2: Análisis Exploratorio de Datos (EDA) y Visualización ---\")\n",
        "\n",
        "# 3.1 Se Realiza la distribución de la Variable Objetivo (Clase de Vino)\n",
        "plt.figure(figsize=(8, 5))\n",
        "sns.countplot(x='nombre_clase', data=df_vino, palette='viridis')\n",
        "plt.title('Distribución de las Clases de Vino')\n",
        "plt.xlabel('Clase de Vino')\n",
        "plt.ylabel('Número de Instancias')\n",
        "plt.show()\n",
        "\n"
      ],
      "metadata": {
        "id": "PPw2UU1RJQok"
      },
      "execution_count": null,
      "outputs": []
    },
    {
      "cell_type": "code",
      "source": [
        "# 3.2 Se realiza la distribución de las Características Numéricas (Histogramas y KDE)\n",
        "print(\"\\nVisualizando la distribución de cada característica numérica:\")\n",
        "df_vino.hist(bins=20, figsize=(15, 12), layout=(4, 4), color='skyblue', edgecolor='black')\n",
        "plt.suptitle('Histogramas de las Características del Dataset de Vino', y=1.02)\n",
        "plt.tight_layout(rect=[0, 0.03, 1, 0.98]) # Ajustar diseño para evitar solapamiento\n",
        "plt.show()"
      ],
      "metadata": {
        "id": "TyHA7c9qK6F8"
      },
      "execution_count": null,
      "outputs": []
    },
    {
      "cell_type": "code",
      "source": [
        "# 3.3 Relación entre las Características (Pair Plot / Gráfico de Pares)\n",
        "print(\"\\nGenerando Gráfico de Pares para visualizar relaciones entre características por clase:\")\n",
        "# Excluimos 'clase_objetivo' para que sns.pairplot solo trabaje con las features y 'hue'\n",
        "sns.pairplot(df_vino.drop(columns=['clase_objetivo']), hue='nombre_clase', palette='viridis', diag_kind='kde')\n",
        "plt.suptitle('Gráfico de Pares de las Características del Dataset de Vino por Clase', y=1.02)\n",
        "plt.show()"
      ],
      "metadata": {
        "id": "bLcaRvUmK2Ax"
      },
      "execution_count": null,
      "outputs": []
    },
    {
      "cell_type": "code",
      "source": [
        "# 3.4 Distribución de Características por Clase (Box Plots / Violin Plots)\n",
        "print(\"\\nVisualizando la distribución de cada característica por clase de vino (Box Plots):\")\n",
        "num_caracteristicas = len(datos_vino.feature_names)\n",
        "num_filas = int(np.ceil(num_caracteristicas / 3))\n",
        "fig, ejes = plt.subplots(nrows=num_filas, ncols=3, figsize=(18, 4 * num_filas))\n",
        "ejes = ejes.flatten()\n",
        "\n",
        "for i, caracteristica in enumerate(datos_vino.feature_names):\n",
        "    sns.boxplot(x='nombre_clase', y=caracteristica, data=df_vino, ax=ejes[i], palette='plasma')\n",
        "    ejes[i].set_title(f'{caracteristica} por Clase de Vino')\n",
        "    ejes[i].set_xlabel('Clase de Vino')\n",
        "    ejes[i].set_ylabel(caracteristica)\n",
        "    ejes[i].tick_params(axis='x', rotation=30) # Rotar etiquetas para mejor lectura\n",
        "\n",
        "# Ocultar los ejes sobrantes si los hay\n",
        "for j in range(i + 1, len(ejes)):\n",
        "    fig.delaxes(ejes[j])\n",
        "\n",
        "plt.tight_layout(rect=[0, 0.03, 1, 0.98])\n",
        "plt.suptitle('Box Plots de Características por Clase de Vino', y=1.00)\n",
        "plt.show()"
      ],
      "metadata": {
        "id": "FmecSz7CLGGz"
      },
      "execution_count": null,
      "outputs": []
    },
    {
      "cell_type": "code",
      "source": [
        "# 3.5 Matriz de Correlación\n",
        "print(\"\\nCalculando y visualizando la matriz de correlación entre características:\")\n",
        "# Excluir las columnas 'clase_objetivo' y 'nombre_clase' para la matriz de correlación\n",
        "matriz_correlacion = df_vino[datos_vino.feature_names].corr()\n",
        "\n",
        "plt.figure(figsize=(12, 10))\n",
        "sns.heatmap(matriz_correlacion, annot=True, cmap='coolwarm', fmt=\".2f\", linewidths=.5)\n",
        "plt.title('Matriz de Correlación de las Características del Dataset de Vino')\n",
        "plt.show()"
      ],
      "metadata": {
        "id": "UuFMsc2MLTNG"
      },
      "execution_count": null,
      "outputs": []
    },
    {
      "cell_type": "markdown",
      "source": [
        "4. Conclusiones del Análisis ---"
      ],
      "metadata": {
        "id": "SDAtT8QOjiTp"
      }
    },
    {
      "cell_type": "code",
      "source": [
        "print(\"\\n--- SECCIÓN 3: Conclusiones del Análisis ---\")\n",
        "\n",
        "print(\"\\nAnálisis General del Dataset 'Wine' (Vino):\")\n",
        "print(\"1.  **Exploración Inicial**: El dataset 'Wine' contiene 178 instancias y 13 características numéricas, además de una variable objetivo que clasifica el vino en 3 tipos (clases 0, 1, 2). No se encontraron valores nulos, lo que simplifica el preprocesamiento.\")\n",
        "print(\"2.  **Distribución de Clases**: Las clases no están perfectamente balanceadas, pero tienen un número suficiente de instancias para cada categoría (59, 71, 48), lo cual es razonable para tareas de clasificación.\")\n",
        "print(\"3.  **Distribución de Características**: Los histogramas y los gráficos KDE muestran que la mayoría de las características tienen una distribución unimodal, algunas con ligera asimetría (sesgo). Por ejemplo, 'magnesium' (magnesio) y 'proanthocyanins' (proantocianinas) parecen tener una cola más larga a la derecha.\")\n",
        "print(\"4.  **Relación entre Características (Gráfico de Pares)**: El Gráfico de Pares es muy revelador. Permite observar cómo ciertas combinaciones de características separan claramente las clases de vino. Por ejemplo, la combinación de 'alcohol' y 'malic_acid' (ácido málico), o 'proline' (prolina) y 'flavanoids' (flavanoides), muestran una buena separación visual entre las tres clases. Esto sugiere que estas características son buenos predictores para la clasificación.\")\n",
        "print(\"5.  **Variación por Clase (Box Plots)**: Los Box Plots (Diagramas de Caja) confirman que la mayoría de las características tienen rangos y medianas significativamente diferentes entre las clases de vino. Por ejemplo, 'alcohol' tiende a ser más alto en la clase 0 y más bajo en la clase 2. 'Proline' también muestra una diferencia muy marcada entre las clases, siendo mucho más alta en la clase 0. Esto refuerza la idea de que las clases son distinguibles por sus perfiles químicos.\")\n",
        "print(\"6.  **Correlación entre Características**: La matriz de correlación revela relaciones interesantes:\")\n",
        "print(\"    -   Existen correlaciones positivas fuertes, como entre 'flavanoids' y 'total_phenols' (fenoles totales) (0.86), o entre 'alcalinity_of_ash' (alcalinidad de las cenizas) y 'magnesium' (magnesio) (0.28).\")\n",
        "print(\"    -   También hay correlaciones negativas, como entre 'alcohol' y 'alcalinity_of_ash' (alcalinidad de las cenizas) (-0.37), o 'malic_acid' (ácido málico) y 'flavanoids' (flavanoides) (-0.41).\")\n",
        "print(\"    -   Características como 'proline' (prolina) muestran una correlación moderada a fuerte con 'alcohol' y 'flavanoids' (flavanoides), lo que indica que estas propiedades químicas pueden estar relacionadas en la composición del vino.\")\n",
        "\n",
        "print(\"\\nEn resumen, el dataset 'Wine'(vino) presenta características bien diferenciadas entre sus clases, lo que lo convierte en un excelente candidato para modelos de aprendizaje automático para clasificación. El análisis visual ha proporcionado una comprensión sólida de la estructura de los datos y las relaciones entre sus variables.\")"
      ],
      "metadata": {
        "id": "wRijBErRM8G9"
      },
      "execution_count": null,
      "outputs": []
    }
  ]
}