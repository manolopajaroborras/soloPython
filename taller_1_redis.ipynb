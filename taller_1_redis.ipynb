{
  "nbformat": 4,
  "nbformat_minor": 0,
  "metadata": {
    "colab": {
      "provenance": [],
      "authorship_tag": "ABX9TyOF0HdNsKGkAYuGaN4AjDb8",
      "include_colab_link": true
    },
    "kernelspec": {
      "name": "python3",
      "display_name": "Python 3"
    },
    "language_info": {
      "name": "python"
    }
  },
  "cells": [
    {
      "cell_type": "markdown",
      "metadata": {
        "id": "view-in-github",
        "colab_type": "text"
      },
      "source": [
        "<a href=\"https://colab.research.google.com/github/manolopajaroborras/soloPython/blob/main/taller_1_redis.ipynb\" target=\"_parent\"><img src=\"https://colab.research.google.com/assets/colab-badge.svg\" alt=\"Open In Colab\"/></a>"
      ]
    },
    {
      "cell_type": "markdown",
      "source": [],
      "metadata": {
        "id": "wBZqTB17R_sY"
      }
    },
    {
      "cell_type": "markdown",
      "source": [
        "Instalando redis"
      ],
      "metadata": {
        "id": "XlYxxxCpStZs"
      }
    },
    {
      "cell_type": "code",
      "execution_count": 1,
      "metadata": {
        "colab": {
          "base_uri": "https://localhost:8080/"
        },
        "id": "qZkxhbxSR-1N",
        "outputId": "956145c8-db7c-4517-eb32-4eb17311964a"
      },
      "outputs": [
        {
          "output_type": "stream",
          "name": "stdout",
          "text": [
            "Collecting redis\n",
            "  Downloading redis-6.4.0-py3-none-any.whl.metadata (10 kB)\n",
            "Downloading redis-6.4.0-py3-none-any.whl (279 kB)\n",
            "\u001b[?25l   \u001b[90m━━━━━━━━━━━━━━━━━━━━━━━━━━━━━━━━━━━━━━━━\u001b[0m \u001b[32m0.0/279.8 kB\u001b[0m \u001b[31m?\u001b[0m eta \u001b[36m-:--:--\u001b[0m\r\u001b[2K   \u001b[91m━━━━━━━━━━━━━━━━━\u001b[0m\u001b[91m╸\u001b[0m\u001b[90m━━━━━━━━━━━━━━━━━━━━━━\u001b[0m \u001b[32m122.9/279.8 kB\u001b[0m \u001b[31m3.4 MB/s\u001b[0m eta \u001b[36m0:00:01\u001b[0m\r\u001b[2K   \u001b[90m━━━━━━━━━━━━━━━━━━━━━━━━━━━━━━━━━━━━━━━━\u001b[0m \u001b[32m279.8/279.8 kB\u001b[0m \u001b[31m4.4 MB/s\u001b[0m eta \u001b[36m0:00:00\u001b[0m\n",
            "\u001b[?25hInstalling collected packages: redis\n",
            "Successfully installed redis-6.4.0\n"
          ]
        }
      ],
      "source": [
        "pip install redis"
      ]
    },
    {
      "cell_type": "markdown",
      "source": [
        "se importa redis y json para manipular laentrada y salida de datos para que sea mas  legible"
      ],
      "metadata": {
        "id": "JFJ37F6xS65y"
      }
    },
    {
      "cell_type": "code",
      "source": [
        "import redis\n",
        "import json\n",
        "class GestorLibros:\n",
        "    def __init__(self):\n",
        "        self.redis_client = redis.Redis(host='localhost', port=6379, db=0)\n",
        "        # conexion a redis. decode_response = true con la finalidad de que las\n",
        "        # respuestas sean strrings en lugar de bytes\n",
        "        h\n",
        "        self.conexion_redis = redis.Redis(host='localhost', port=6376, db=0, decode_responses=True)\n",
        "        print(f\"conexion establecida en {host}:{port}/{db}\")\n",
        "\n",
        "        def _clave_libro(self, id_libro):\n",
        "            return f\"libro:{id_libro}\" # genera la clave para un libro\n",
        "\n",
        "        def _siguiente_id_libro(self):\n",
        "            return self.conexion_redis.incr(\"siguiente_id_libro\") #incr y devuelve el id de libro disponible\n",
        "\n",
        "        def _añadir_libro(self, id_libro, datos_libro):\n",
        "            pipeline = self.conexion_redis.pipeline()\n",
        "            pipeline.sadd(\"libros\", id_libro) # Indice de todos los libros\n",
        "            if 'autor' in datos_libro: # 'autor' es la clave interna del hash\n",
        "                pipeline.sadd(f\"autor:{datos_libro['autor']}\", id_libro) # Indice de libros por autor\n",
        "            if 'year' in datos_libro: # 'year' es la clave interna del hash\n",
        "                pipeline.sadd(f\"year:{datos_libro['year']}\", id_libro) # Indice de libros por año\n",
        "             # ejecuto la adicion\n",
        "            pipeline.execute()\n",
        "\n",
        "        def _eliminar_libro(self, id_libro, datos_libro):\n",
        "            #elimina  el ID del libro\n",
        "            pipeline = self.conexion_redis.pipeline()\n",
        "            pipeline.srem(\"libros\", id_libro)\n",
        "            if 'autor' in datos_libro:\n",
        "                pipeline.srem(f\"autor:{datos_libro['autor']}\", id_libro)\n",
        "            if 'year' in datos_libro:\n",
        "                pipeline.srem(f\"libros:por_anio:{datos_libro['year']}\",id_libro)\n",
        "            pipeline.execute()\n",
        "\n"
      ],
      "metadata": {
        "id": "JUhPShuAS_IE"
      },
      "execution_count": 9,
      "outputs": []
    },
    {
      "cell_type": "markdown",
      "source": [
        "---------Operacion con Crud  ----------"
      ],
      "metadata": {
        "id": "wdFwgAYKbltk"
      }
    },
    {
      "cell_type": "code",
      "source": [
        "from os import pipe\n",
        "def crear_libro(self, datos_libro):\n",
        "  # Crea un libro y lo guarda en redis y retorna ID\n",
        "    id_libro = self._siguiente_id_libro()\n",
        "    clave_libro = self._clave_libro(id_libro)\n",
        "\n",
        "    # dato del libro\n",
        "    datos_libro = {\n",
        "        \"titulo\": titulo,\n",
        "        \"autor\": autor,\n",
        "        \"year\": str(ano),  # Convertir el año a una cadena en redis\n",
        "        \"genero\": genero\n",
        "\n",
        "    }\n",
        "    ''' vamos a usar pipeline para ejecutar los comandos relacionados\n",
        "        de forma atomica para haceerlos mas eficiente\n",
        "    '''\n",
        "    pipeline = self.conexion_redis.pipeline()\n",
        "    pipeline.hset(clave_libro, mapping=datos_libro) # guardando los detalles del libro\n",
        "\n",
        "    # añadiendo los indices\n",
        "    pipeline.sadd(\"todos los libros\", id_libro)\n",
        "    pipeline.sadd(f\"libros:autor:{autor}\", id_libro)\n",
        "    pipeline.sadd(f\"libros:por_anio:{ano}\", id_libro)\n",
        "    pipeline.sadd(f\"libros:por_genero:{genero}\", id_libro)\n",
        "    pipeline.execute()\n",
        "    print(f\"Libro creado con ID: {id_libro}\")\n",
        "    return id_libro\n",
        "\n",
        "\n"
      ],
      "metadata": {
        "id": "-s4atPdSbsi3"
      },
      "execution_count": null,
      "outputs": []
    }
  ]
}